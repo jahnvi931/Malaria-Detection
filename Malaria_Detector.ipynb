{
 "cells": [
  {
   "cell_type": "markdown",
   "metadata": {
    "colab_type": "text",
    "id": "view-in-github"
   },
   "source": [
    "<a href=\"https://colab.research.google.com/github/RiturajSaha/Malaria-Detector-Application/blob/master/Malaria_Detector.ipynb\" target=\"_parent\"><img src=\"https://colab.research.google.com/assets/colab-badge.svg\" alt=\"Open In Colab\"/></a>"
   ]
  },
  {
   "cell_type": "markdown",
   "metadata": {
    "colab_type": "text",
    "id": "AxaO8OLYIAX0"
   },
   "source": [
    "Importng Libraries"
   ]
  },
  {
   "cell_type": "code",
   "execution_count": 1,
   "metadata": {
    "colab": {
     "base_uri": "https://localhost:8080/",
     "height": 35
    },
    "colab_type": "code",
    "id": "Z_K9lhKdB1ta",
    "outputId": "9973c6e3-b7ae-4206-f362-7cc32f10f5b5"
   },
   "outputs": [
    {
     "ename": "ModuleNotFoundError",
     "evalue": "No module named 'cv2'",
     "output_type": "error",
     "traceback": [
      "\u001b[1;31m---------------------------------------------------------------------------\u001b[0m",
      "\u001b[1;31mModuleNotFoundError\u001b[0m                       Traceback (most recent call last)",
      "\u001b[1;32m<ipython-input-1-c347b4e8bd48>\u001b[0m in \u001b[0;36m<module>\u001b[1;34m\u001b[0m\n\u001b[0;32m      2\u001b[0m \u001b[1;32mimport\u001b[0m \u001b[0mpandas\u001b[0m \u001b[1;32mas\u001b[0m \u001b[0mpd\u001b[0m\u001b[1;33m\u001b[0m\u001b[1;33m\u001b[0m\u001b[0m\n\u001b[0;32m      3\u001b[0m \u001b[1;32mimport\u001b[0m \u001b[0mos\u001b[0m\u001b[1;33m\u001b[0m\u001b[1;33m\u001b[0m\u001b[0m\n\u001b[1;32m----> 4\u001b[1;33m \u001b[1;32mimport\u001b[0m \u001b[0mcv2\u001b[0m\u001b[1;33m\u001b[0m\u001b[1;33m\u001b[0m\u001b[0m\n\u001b[0m\u001b[0;32m      5\u001b[0m \u001b[1;32mimport\u001b[0m \u001b[0mmatplotlib\u001b[0m\u001b[1;33m.\u001b[0m\u001b[0mpyplot\u001b[0m \u001b[1;32mas\u001b[0m \u001b[0mplt\u001b[0m\u001b[1;33m\u001b[0m\u001b[1;33m\u001b[0m\u001b[0m\n\u001b[0;32m      6\u001b[0m \u001b[1;32mimport\u001b[0m \u001b[0mos\u001b[0m\u001b[1;33m\u001b[0m\u001b[1;33m\u001b[0m\u001b[0m\n",
      "\u001b[1;31mModuleNotFoundError\u001b[0m: No module named 'cv2'"
     ]
    }
   ],
   "source": [
    "import numpy as np \n",
    "import pandas as pd\n",
    "import os \n",
    "import cv2\n",
    "import matplotlib.pyplot as plt \n",
    "import os\n",
    "from PIL import Image\n",
    "from keras.preprocessing.image import img_to_array\n",
    "from keras.preprocessing.image import load_img\n",
    "from keras.utils import np_utils\n",
    "from tensorflow.python.keras.layers import Dense,Conv2D,Flatten,MaxPooling2D,GlobalAveragePooling2D,Activation,BatchNormalization,Dropout\n",
    "from tensorflow.python.keras import Sequential,backend,optimizers"
   ]
  },
  {
   "cell_type": "markdown",
   "metadata": {
    "colab_type": "text",
    "id": "a9SXe0ySITpn"
   },
   "source": [
    "Unzipping Dataset"
   ]
  },
  {
   "cell_type": "code",
   "execution_count": 0,
   "metadata": {
    "colab": {},
    "colab_type": "code",
    "id": "TsvjrWNGT_B_"
   },
   "outputs": [],
   "source": [
    "from zipfile import ZipFile\n",
    "file_name='/content/drive/My Drive/Colab Notebooks/Malaria Detector/mldataset.zip'\n",
    "with ZipFile(file_name,'r') as zip:\n",
    "          zip.extractall()"
   ]
  },
  {
   "cell_type": "markdown",
   "metadata": {
    "colab_type": "text",
    "id": "2E8D87v6Iac6"
   },
   "source": [
    "Identifying Dependent and Independent Objects"
   ]
  },
  {
   "cell_type": "code",
   "execution_count": null,
   "metadata": {
    "colab": {
     "base_uri": "https://localhost:8080/",
     "height": 52
    },
    "colab_type": "code",
    "id": "d-8zz4TAVqjJ",
    "outputId": "c36a60e8-70bd-441b-f9fc-85f07e60200d"
   },
   "outputs": [],
   "source": [
    "parasitized_data = os.listdir('C:/Users/Kirtilata Kumar/Downloads/Malaria-Detector-Application-master/Malaria-Detector-Application-master/Dataset/Dataset/Train/Parasite/')\n",
    "uninfected_data = os.listdir('C:/Users/Kirtilata Kumar/Downloads/Malaria-Detector-Application-master/Malaria-Detector-Application-master/Dataset/Dataset/Train/Uninfected/')\n",
    "data = []\n",
    "labels = []\n",
    "\n",
    "for img in parasitized_data:\n",
    "    try:\n",
    "        img_read = plt.imread('C:/Users/Kirtilata Kumar/Downloads/Malaria-Detector-Application-master/Malaria-Detector-Application-master/Dataset/Dataset/Train/Parasite/' + img)\n",
    "        img_resize = cv2.resize(img_read, (50, 50))\n",
    "        img_array = img_to_array(img_resize)\n",
    "        data.append(img_array)\n",
    "        labels.append(1)\n",
    "    except:\n",
    "        None\n",
    "        \n",
    "for img in uninfected_data:\n",
    "    try:\n",
    "        img_read = plt.imread('C:/Users/Kirtilata Kumar/Downloads/Malaria-Detector-Application-master/Malaria-Detector-Application-master/Dataset/Dataset/Train/Uninfected/' + img)\n",
    "        img_resize = cv2.resize(img_read, (50, 50))\n",
    "        img_array = img_to_array(img_resize)\n",
    "        data.append(img_array)\n",
    "        labels.append(0)\n",
    "    except:\n",
    "        None\n",
    "\n",
    "image_data = np.array(data)\n",
    "labels = np.array(labels)\n",
    "print(\"image_data:\",len(image_data))\n",
    "print(\"labels:\",len(labels))"
   ]
  },
  {
   "cell_type": "markdown",
   "metadata": {
    "colab_type": "text",
    "id": "HxNoghL4IQTK"
   },
   "source": [
    "Data Visualization"
   ]
  },
  {
   "cell_type": "code",
   "execution_count": null,
   "metadata": {
    "colab": {
     "base_uri": "https://localhost:8080/",
     "height": 511
    },
    "colab_type": "code",
    "id": "SeI-FtbyT3ai",
    "outputId": "8492fb87-5df9-4242-de15-bc09a93eae85"
   },
   "outputs": [],
   "source": [
    "print(\"Parasitized Sample:\\n\")\n",
    "plt.figure(figsize = (15,15))\n",
    "for i in range(3):\n",
    "    plt.subplot(4, 4, i+1)\n",
    "    img = cv2.imread('C:/Users/Kirtilata Kumar/Downloads/Malaria-Detector-Application-master/Malaria-Detector-Application-master/Dataset/Dataset/Train/Parasite/'+ parasitized_data[i])\n",
    "    plt.imshow(img)\n",
    "plt.show()\n",
    "\n",
    "print(\"Uninfected Sample:\\n\")\n",
    "plt.figure(figsize = (15,15))\n",
    "for i in range(3):\n",
    "    plt.subplot(4, 4, i+1)\n",
    "    img = cv2.imread('C:/Users/Kirtilata Kumar/Downloads/Malaria-Detector-Application-master/Malaria-Detector-Application-master/Dataset/Dataset/Train/Uninfected/'+ uninfected_data[i])\n",
    "    plt.imshow(img)\n",
    "plt.show()"
   ]
  },
  {
   "cell_type": "markdown",
   "metadata": {
    "colab_type": "text",
    "id": "VPFsBmD9IgRT"
   },
   "source": [
    "Dividng into train and test"
   ]
  },
  {
   "cell_type": "code",
   "execution_count": null,
   "metadata": {
    "colab": {
     "base_uri": "https://localhost:8080/",
     "height": 87
    },
    "colab_type": "code",
    "id": "KeFgC_oqV_nQ",
    "outputId": "09859c7f-d487-4a83-b5a6-0c7a52cce973"
   },
   "outputs": [],
   "source": [
    "from sklearn.model_selection import train_test_split\n",
    "X_train, X_test, y_train, y_test = train_test_split(image_data, labels, test_size = 0.2,random_state = 0)\n",
    "\n",
    "y_train = np_utils.to_categorical(y_train, num_classes = 2)\n",
    "y_test = np_utils.to_categorical(y_test, num_classes = 2)\n",
    "\n",
    "print(\"X_train:\",len(X_train))\n",
    "print(\"X_test:\",len(X_test))\n",
    "print(\"y_train:\",len(y_train))\n",
    "print(\"y_test:\",len(y_test))"
   ]
  },
  {
   "cell_type": "markdown",
   "metadata": {
    "colab_type": "text",
    "id": "uvIuAxgMIvQt"
   },
   "source": [
    "Building the CNN model"
   ]
  },
  {
   "cell_type": "code",
   "execution_count": 5,
   "metadata": {
    "colab": {
     "base_uri": "https://localhost:8080/",
     "height": 745
    },
    "colab_type": "code",
    "id": "Uru2WrqzWIyY",
    "outputId": "f063370b-9dd9-42a3-9e35-fbb072fb2726"
   },
   "outputs": [
    {
     "name": "stdout",
     "output_type": "stream",
     "text": [
      "Model: \"sequential\"\n",
      "_________________________________________________________________\n",
      "Layer (type)                 Output Shape              Param #   \n",
      "=================================================================\n",
      "conv2d (Conv2D)              (None, 48, 48, 32)        896       \n",
      "_________________________________________________________________\n",
      "max_pooling2d (MaxPooling2D) (None, 24, 24, 32)        0         \n",
      "_________________________________________________________________\n",
      "batch_normalization (BatchNo (None, 24, 24, 32)        128       \n",
      "_________________________________________________________________\n",
      "dropout (Dropout)            (None, 24, 24, 32)        0         \n",
      "_________________________________________________________________\n",
      "conv2d_1 (Conv2D)            (None, 22, 22, 32)        9248      \n",
      "_________________________________________________________________\n",
      "max_pooling2d_1 (MaxPooling2 (None, 11, 11, 32)        0         \n",
      "_________________________________________________________________\n",
      "batch_normalization_1 (Batch (None, 11, 11, 32)        128       \n",
      "_________________________________________________________________\n",
      "dropout_1 (Dropout)          (None, 11, 11, 32)        0         \n",
      "_________________________________________________________________\n",
      "conv2d_2 (Conv2D)            (None, 9, 9, 32)          9248      \n",
      "_________________________________________________________________\n",
      "max_pooling2d_2 (MaxPooling2 (None, 4, 4, 32)          0         \n",
      "_________________________________________________________________\n",
      "batch_normalization_2 (Batch (None, 4, 4, 32)          128       \n",
      "_________________________________________________________________\n",
      "dropout_2 (Dropout)          (None, 4, 4, 32)          0         \n",
      "_________________________________________________________________\n",
      "flatten (Flatten)            (None, 512)               0         \n",
      "_________________________________________________________________\n",
      "dense (Dense)                (None, 512)               262656    \n",
      "_________________________________________________________________\n",
      "batch_normalization_3 (Batch (None, 512)               2048      \n",
      "_________________________________________________________________\n",
      "dropout_3 (Dropout)          (None, 512)               0         \n",
      "_________________________________________________________________\n",
      "dense_1 (Dense)              (None, 2)                 1026      \n",
      "=================================================================\n",
      "Total params: 285,506\n",
      "Trainable params: 284,290\n",
      "Non-trainable params: 1,216\n",
      "_________________________________________________________________\n"
     ]
    }
   ],
   "source": [
    "model = Sequential()\n",
    "    \n",
    "inputShape = (50, 50, 3)\n",
    "\n",
    "if backend.image_data_format() == 'channels_first':\n",
    "          inputShape = (3, 50, 50)\n",
    "model.add(Conv2D(32, (3,3), activation = 'relu', input_shape = inputShape))\n",
    "model.add(MaxPooling2D(2,2))\n",
    "model.add(BatchNormalization(axis = -1))\n",
    "model.add(Dropout(0.2))\n",
    "\n",
    "model.add(Conv2D(32, (3,3), activation = 'relu'))\n",
    "model.add(MaxPooling2D(2,2))\n",
    "model.add(BatchNormalization(axis = -1))\n",
    "model.add(Dropout(0.2))\n",
    "\n",
    "model.add(Conv2D(32, (3,3), activation = 'relu'))\n",
    "model.add(MaxPooling2D(2,2))\n",
    "model.add(BatchNormalization(axis = -1))\n",
    "model.add(Dropout(0.2))\n",
    "\n",
    "model.add(Flatten())\n",
    "    \n",
    "model.add(Dense(512, activation = 'relu'))\n",
    "model.add(BatchNormalization(axis = -1))\n",
    "model.add(Dropout(0.5))\n",
    "model.add(Dense(2, activation = 'softmax'))\n",
    "    \n",
    "model.summary()"
   ]
  },
  {
   "cell_type": "markdown",
   "metadata": {
    "colab_type": "text",
    "id": "B3NBuKLrJOVZ"
   },
   "source": [
    "Compiling the model"
   ]
  },
  {
   "cell_type": "code",
   "execution_count": 0,
   "metadata": {
    "colab": {},
    "colab_type": "code",
    "id": "qieD7ZErWNZe"
   },
   "outputs": [],
   "source": [
    "model.compile(loss = 'categorical_crossentropy', optimizer = 'adam', metrics = ['accuracy'])"
   ]
  },
  {
   "cell_type": "markdown",
   "metadata": {
    "colab_type": "text",
    "id": "pl5mWgvxJZ5T"
   },
   "source": [
    "Fitting the model"
   ]
  },
  {
   "cell_type": "code",
   "execution_count": 7,
   "metadata": {
    "colab": {
     "base_uri": "https://localhost:8080/",
     "height": 1000
    },
    "colab_type": "code",
    "id": "ncKXN3QEWPtB",
    "outputId": "f63cbaf7-74f6-40a0-f803-429e6c2d0572"
   },
   "outputs": [
    {
     "name": "stdout",
     "output_type": "stream",
     "text": [
      "Epoch 1/30\n",
      "689/689 [==============================] - 67s 98ms/step - loss: 0.6427 - accuracy: 0.7157\n",
      "Epoch 2/30\n",
      "689/689 [==============================] - 67s 98ms/step - loss: 0.2507 - accuracy: 0.9042\n",
      "Epoch 3/30\n",
      "689/689 [==============================] - 70s 102ms/step - loss: 0.1858 - accuracy: 0.9359\n",
      "Epoch 4/30\n",
      "689/689 [==============================] - 68s 99ms/step - loss: 0.1706 - accuracy: 0.9428\n",
      "Epoch 5/30\n",
      "689/689 [==============================] - 68s 99ms/step - loss: 0.1619 - accuracy: 0.9456\n",
      "Epoch 6/30\n",
      "689/689 [==============================] - 67s 98ms/step - loss: 0.1594 - accuracy: 0.9449\n",
      "Epoch 7/30\n",
      "689/689 [==============================] - 68s 99ms/step - loss: 0.1559 - accuracy: 0.9476\n",
      "Epoch 8/30\n",
      "689/689 [==============================] - 68s 99ms/step - loss: 0.1514 - accuracy: 0.9499\n",
      "Epoch 9/30\n",
      "689/689 [==============================] - 68s 99ms/step - loss: 0.1467 - accuracy: 0.9520\n",
      "Epoch 10/30\n",
      "689/689 [==============================] - 68s 99ms/step - loss: 0.1446 - accuracy: 0.9530\n",
      "Epoch 11/30\n",
      "689/689 [==============================] - 68s 99ms/step - loss: 0.1450 - accuracy: 0.9531\n",
      "Epoch 12/30\n",
      "689/689 [==============================] - 70s 101ms/step - loss: 0.1396 - accuracy: 0.9544\n",
      "Epoch 13/30\n",
      "689/689 [==============================] - 68s 99ms/step - loss: 0.1398 - accuracy: 0.9548\n",
      "Epoch 14/30\n",
      "689/689 [==============================] - 68s 99ms/step - loss: 0.1391 - accuracy: 0.9533\n",
      "Epoch 15/30\n",
      "689/689 [==============================] - 68s 98ms/step - loss: 0.1336 - accuracy: 0.9563\n",
      "Epoch 16/30\n",
      "689/689 [==============================] - 68s 98ms/step - loss: 0.1345 - accuracy: 0.9555\n",
      "Epoch 17/30\n",
      "689/689 [==============================] - 68s 99ms/step - loss: 0.1369 - accuracy: 0.9542\n",
      "Epoch 18/30\n",
      "689/689 [==============================] - 68s 99ms/step - loss: 0.1350 - accuracy: 0.9562\n",
      "Epoch 19/30\n",
      "689/689 [==============================] - 68s 99ms/step - loss: 0.1270 - accuracy: 0.9557\n",
      "Epoch 20/30\n",
      "689/689 [==============================] - 68s 99ms/step - loss: 0.1276 - accuracy: 0.9572\n",
      "Epoch 21/30\n",
      "689/689 [==============================] - 70s 101ms/step - loss: 0.1277 - accuracy: 0.9573\n",
      "Epoch 22/30\n",
      "689/689 [==============================] - 68s 98ms/step - loss: 0.1244 - accuracy: 0.9585\n",
      "Epoch 23/30\n",
      "689/689 [==============================] - 68s 99ms/step - loss: 0.1242 - accuracy: 0.9581\n",
      "Epoch 24/30\n",
      "689/689 [==============================] - 68s 98ms/step - loss: 0.1230 - accuracy: 0.9594\n",
      "Epoch 25/30\n",
      "689/689 [==============================] - 68s 99ms/step - loss: 0.1186 - accuracy: 0.9601\n",
      "Epoch 26/30\n",
      "689/689 [==============================] - 68s 99ms/step - loss: 0.1173 - accuracy: 0.9600\n",
      "Epoch 27/30\n",
      "689/689 [==============================] - 68s 99ms/step - loss: 0.1204 - accuracy: 0.9570\n",
      "Epoch 28/30\n",
      "689/689 [==============================] - 68s 98ms/step - loss: 0.1163 - accuracy: 0.9591\n",
      "Epoch 29/30\n",
      "689/689 [==============================] - 68s 98ms/step - loss: 0.1211 - accuracy: 0.9594\n",
      "Epoch 30/30\n",
      "689/689 [==============================] - 70s 101ms/step - loss: 0.1150 - accuracy: 0.9601\n"
     ]
    },
    {
     "data": {
      "text/plain": [
       "<tensorflow.python.keras.callbacks.History at 0x7faf14442160>"
      ]
     },
     "execution_count": 7,
     "metadata": {
      "tags": []
     },
     "output_type": "execute_result"
    }
   ],
   "source": [
    "model.fit(X_train, y_train, epochs = 30, batch_size = 32)"
   ]
  },
  {
   "cell_type": "markdown",
   "metadata": {
    "colab_type": "text",
    "id": "yBhqS3AYJnwO"
   },
   "source": [
    "Evaluating the model"
   ]
  },
  {
   "cell_type": "code",
   "execution_count": 8,
   "metadata": {
    "colab": {
     "base_uri": "https://localhost:8080/",
     "height": 69
    },
    "colab_type": "code",
    "id": "LwJROPlkWSTe",
    "outputId": "72a98205-1535-48e7-fbe7-64c23e7ffa43"
   },
   "outputs": [
    {
     "name": "stdout",
     "output_type": "stream",
     "text": [
      "173/173 [==============================] - 4s 25ms/step - loss: 0.1303 - accuracy: 0.9523\n",
      "Loss:  0.13030435144901276\n",
      "Accuracy:  95.22859454154969\n"
     ]
    }
   ],
   "source": [
    "predict = model.evaluate(X_test, y_test)\n",
    "print(\"Loss: \",predict[0])\n",
    "print(\"Accuracy: \",predict[1]*100)"
   ]
  },
  {
   "cell_type": "markdown",
   "metadata": {
    "colab_type": "text",
    "id": "3mP1l8VKfqkV"
   },
   "source": [
    "Saving model"
   ]
  },
  {
   "cell_type": "code",
   "execution_count": 9,
   "metadata": {
    "colab": {
     "base_uri": "https://localhost:8080/",
     "height": 763
    },
    "colab_type": "code",
    "id": "0DDVnynGhGiQ",
    "outputId": "d5aa7d69-103c-4e73-d7de-c59d5f6770dd"
   },
   "outputs": [
    {
     "name": "stdout",
     "output_type": "stream",
     "text": [
      "/content/drive/My Drive/Colab Notebooks\n",
      "Model: \"sequential\"\n",
      "_________________________________________________________________\n",
      "Layer (type)                 Output Shape              Param #   \n",
      "=================================================================\n",
      "conv2d (Conv2D)              (None, 48, 48, 32)        896       \n",
      "_________________________________________________________________\n",
      "max_pooling2d (MaxPooling2D) (None, 24, 24, 32)        0         \n",
      "_________________________________________________________________\n",
      "batch_normalization (BatchNo (None, 24, 24, 32)        128       \n",
      "_________________________________________________________________\n",
      "dropout (Dropout)            (None, 24, 24, 32)        0         \n",
      "_________________________________________________________________\n",
      "conv2d_1 (Conv2D)            (None, 22, 22, 32)        9248      \n",
      "_________________________________________________________________\n",
      "max_pooling2d_1 (MaxPooling2 (None, 11, 11, 32)        0         \n",
      "_________________________________________________________________\n",
      "batch_normalization_1 (Batch (None, 11, 11, 32)        128       \n",
      "_________________________________________________________________\n",
      "dropout_1 (Dropout)          (None, 11, 11, 32)        0         \n",
      "_________________________________________________________________\n",
      "conv2d_2 (Conv2D)            (None, 9, 9, 32)          9248      \n",
      "_________________________________________________________________\n",
      "max_pooling2d_2 (MaxPooling2 (None, 4, 4, 32)          0         \n",
      "_________________________________________________________________\n",
      "batch_normalization_2 (Batch (None, 4, 4, 32)          128       \n",
      "_________________________________________________________________\n",
      "dropout_2 (Dropout)          (None, 4, 4, 32)          0         \n",
      "_________________________________________________________________\n",
      "flatten (Flatten)            (None, 512)               0         \n",
      "_________________________________________________________________\n",
      "dense (Dense)                (None, 512)               262656    \n",
      "_________________________________________________________________\n",
      "batch_normalization_3 (Batch (None, 512)               2048      \n",
      "_________________________________________________________________\n",
      "dropout_3 (Dropout)          (None, 512)               0         \n",
      "_________________________________________________________________\n",
      "dense_1 (Dense)              (None, 2)                 1026      \n",
      "=================================================================\n",
      "Total params: 285,506\n",
      "Trainable params: 284,290\n",
      "Non-trainable params: 1,216\n",
      "_________________________________________________________________\n"
     ]
    }
   ],
   "source": [
    "%cd \"C:\\Users\\Kirtilata Kumar\\Downloads\\Malaria-Detector-Application-master\\Malaria-Detector-Application-master\"\n",
    "model.save('a95e30model.h5')\n",
    "from tensorflow.keras.models import load_model\n",
    "model = load_model('a95e30model.h5')\n",
    "model.summary()"
   ]
  }
 ],
 "metadata": {
  "colab": {
   "authorship_tag": "ABX9TyOSw9hpjLLuyRGpxWntk8qr",
   "collapsed_sections": [],
   "include_colab_link": true,
   "mount_file_id": "1w6gDF43waaJ3v7yKw62GfxNrukKZ2RwS",
   "name": "Malaria Detector.ipynb",
   "provenance": []
  },
  "kernelspec": {
   "display_name": "Python 3",
   "language": "python",
   "name": "python3"
  },
  "language_info": {
   "codemirror_mode": {
    "name": "ipython",
    "version": 3
   },
   "file_extension": ".py",
   "mimetype": "text/x-python",
   "name": "python",
   "nbconvert_exporter": "python",
   "pygments_lexer": "ipython3",
   "version": "3.8.5"
  }
 },
 "nbformat": 4,
 "nbformat_minor": 1
}
